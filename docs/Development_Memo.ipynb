{
 "cells": [
  {
   "cell_type": "markdown",
   "metadata": {
    "toc": "true"
   },
   "source": [
    "<h1>Table of Contents<span class=\"tocSkip\"></span></h1>\n",
    "<div class=\"toc\" style=\"margin-top: 1em;\"><ul class=\"toc-item\"><li><span><a href=\"#command-lineによるemacs操作習熟プログラム\" data-toc-modified-id=\"command-lineによるemacs操作習熟プログラム-1\"><span class=\"toc-item-num\">1&nbsp;&nbsp;</span>command lineによるemacs操作習熟プログラム</a></span></li><li><span><a href=\"#仕様\" data-toc-modified-id=\"仕様-2\"><span class=\"toc-item-num\">2&nbsp;&nbsp;</span>仕様</a></span></li><li><span><a href=\"#実装のメモ\" data-toc-modified-id=\"実装のメモ-3\"><span class=\"toc-item-num\">3&nbsp;&nbsp;</span>実装のメモ</a></span><ul class=\"toc-item\"><li><span><a href=\"#gemのデフォルト構造\" data-toc-modified-id=\"gemのデフォルト構造-3.1\"><span class=\"toc-item-num\">3.1&nbsp;&nbsp;</span>gemのデフォルト構造</a></span></li></ul></li></ul></div>"
   ]
  },
  {
   "cell_type": "markdown",
   "metadata": {},
   "source": [
    "# command lineによるemacs操作習熟プログラム"
   ]
  },
  {
   "cell_type": "markdown",
   "metadata": {},
   "source": [
    "* random_check\n",
    "* sequential check\n",
    "   * 実装上の問題点，\n",
    "   * \n",
    "\n",
    "目的の違い．仕様を変えている．\n",
    "をメモっとかなあかん．\n",
    "\n",
    "なぜ？ \n",
    "\n",
    "storyを書いていくんやよ．\n",
    "storyで一番分かりやすいのは，\n",
    "\n",
    "1. 出来上がりました．なぜそうしたか？\n",
    "1. 初期バージョンは\n",
    "1. 問題\n",
    "1. 解決する方法を考えて\n",
    "1. あたらしいバージョンにしました．\n",
    "\n",
    "* どういうソフトにするかもわからんだ．\n",
    "* 最初は\n",
    "  * typer tortoisは何をするソフト？\n",
    "  * editor learner\n",
    "* random checkでも悪くないよね．\n",
    "   * \n",
    "* fizz_buzzには合わない．\n",
    "\n",
    "* 想定している学習者\n",
    "   * 栃木，rubyの学習をしていない\n",
    "   * テキストはよむ．\n",
    "   * プロジェクトをちゃんとやってるかどうかをチェック，\n",
    "       * タイムは必要？\n",
    "       * ちぇっくの仕方を\n",
    "   * 手順を確認していく？\n",
    "       * testではどうする？\n",
    "\n",
    "* random checkの使い方をするか？\n",
    "   * git clone...\n",
    "   * rake install:localでinstall\n",
    "   * .editor_learnerをつくって(pwdから情報をとるように)\n",
    "   * そこにquestion.rb answer.rbが作られて\n",
    "   * 一致をcheck.\n",
    "   * 次の回は，上書きする．．．\n",
    "\n",
    "* sequential checkの使い方？\n",
    "   * gem install editor_learner\n",
    "   * pwdに作る．．．\n",
    "   * そこにdirectoryを作っていく．\n",
    "   * その情報をもとに，次のquestion.rb answer.rbを決定\n",
    "   * 一致をcheck.\n",
    "   \n",
    "* やってるかのcheck??\n"
   ]
  },
  {
   "cell_type": "markdown",
   "metadata": {},
   "source": [
    "# 仕様\n",
    "* 特定のdirectoryで立ち上げると\n",
    "* 例題がcopyされる，跡が残るのがいいのでは．．．\n",
    "* emacsで編集して\n",
    "* 時間で評価\n",
    "* 記録は？？"
   ]
  },
  {
   "cell_type": "markdown",
   "metadata": {
    "collapsed": true
   },
   "source": [
    "#  実装のメモ\n",
    "\n",
    "## gemのデフォルト構造\n",
    "gemはdefaultでどこに入る？\n",
    "* gem envでinstall先がわかる\n",
    "* fileを置いておくか？\n",
    "* File.extend_path('../lib',__FILE__)\n",
    "* ENV, cwd\n"
   ]
  },
  {
   "cell_type": "code",
   "execution_count": null,
   "metadata": {
    "collapsed": true
   },
   "outputs": [],
   "source": []
  }
 ],
 "metadata": {
  "kernelspec": {
   "display_name": "Python 3",
   "language": "python",
   "name": "python3"
  },
  "language_info": {
   "codemirror_mode": {
    "name": "ipython",
    "version": 3
   },
   "file_extension": ".py",
   "mimetype": "text/x-python",
   "name": "python",
   "nbconvert_exporter": "python",
   "pygments_lexer": "ipython3",
   "version": "3.6.5"
  },
  "latex_envs": {
   "LaTeX_envs_menu_present": true,
   "autocomplete": true,
   "bibliofile": "biblio.bib",
   "cite_by": "apalike",
   "current_citInitial": 1,
   "eqLabelWithNumbers": true,
   "eqNumInitial": 1,
   "hotkeys": {
    "equation": "Ctrl-E",
    "itemize": "Ctrl-I"
   },
   "labels_anchors": false,
   "latex_user_defs": false,
   "report_style_numbering": false,
   "user_envs_cfg": false
  },
  "toc": {
   "nav_menu": {
    "height": "49px",
    "width": "251px"
   },
   "number_sections": true,
   "sideBar": true,
   "skip_h1_title": false,
   "toc_cell": true,
   "toc_position": {},
   "toc_section_display": "block",
   "toc_window_display": true
  }
 },
 "nbformat": 4,
 "nbformat_minor": 2
}
